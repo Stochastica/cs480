{
 "cells": [
  {
   "cell_type": "code",
   "execution_count": 280,
   "metadata": {},
   "outputs": [],
   "source": [
    "from music21 import *\n",
    "from functools import reduce\n",
    "import numpy\n",
    "import collections\n",
    "import functools \n",
    "import fractions\n",
    "import math\n",
    "import pandas as pd"
   ]
  },
  {
   "cell_type": "code",
   "execution_count": 144,
   "metadata": {},
   "outputs": [
    {
     "data": {
      "text/plain": [
       "Fraction(1, 12)"
      ]
     },
     "execution_count": 144,
     "metadata": {},
     "output_type": "execute_result"
    }
   ],
   "source": [
    "def fract(x):\n",
    "    if isinstance(x, fractions.Fraction):\n",
    "        return x\n",
    "    else:\n",
    "        return fractions.Fraction(x)\n",
    "def fract_gcd(x, y):\n",
    "    z_top = math.gcd(x.numerator, y.numerator)\n",
    "    z_bot = x.denominator * y.denominator // math.gcd(x.denominator, y.denominator)\n",
    "    return fractions.Fraction(z_top, z_bot)\n",
    "fract_gcd(fractions.Fraction(2, 3), fractions.Fraction(1, 4))"
   ]
  },
  {
   "cell_type": "code",
   "execution_count": 226,
   "metadata": {},
   "outputs": [],
   "source": [
    "def computelast(cells):\n",
    "    timestamp = set()\n",
    "    for c in cells:\n",
    "        start = c.offset\n",
    "        dur = c.duration.quarterLength\n",
    "        if start!= 0: timestamp.add(start)\n",
    "        if dur!= 0: timestamp.add(dur)\n",
    "    frac_timestamp = [fract(x) for x in timestamp]\n",
    "    timeunit = reduce(fract_gcd, frac_timestamp)\n",
    "    return timeunit\n",
    "\n",
    "def breakcell(score):\n",
    "    dict_cells = dict()\n",
    "    current_offset = 0\n",
    "    finishingtime = 0\n",
    "    lowest_pitch = highest_pitch = None\n",
    "    for el in score.recurse():\n",
    "        if isinstance(el, stream.Measure):\n",
    "            current_offset =  el.offset\n",
    "            finishingtime = max(finishingtime, current_offset)\n",
    "        if isinstance(el, note.Note):\n",
    "            lowest_pitch = min(lowest_pitch, el.pitches[0].ps) if lowest_pitch is not None else el.pitches[0].ps\n",
    "            highest_pitch = max(highest_pitch, el.pitches[0].ps) if highest_pitch is not None else el.pitches[0].ps\n",
    "            if current_offset not in dict_cells:\n",
    "                dict_cells[current_offset] = [el]\n",
    "            else:\n",
    "                dict_cells[current_offset].append(el)\n",
    "    cell_timeunits = []\n",
    "    for k,v in dict_cells.items():\n",
    "        timeunit = computelast(v)\n",
    "        cell_timeunits.append(timeunit)\n",
    "    frac_cell_timeunits = [fract(x) for x in cell_timeunits]\n",
    "    minimum_timeunit =  reduce(fract_gcd, frac_cell_timeunits)     \n",
    "    print (minimum_timeunit)\n",
    "    endtime = finishingtime+ max(v.duration.quarterLength for v in dict_cells[finishingtime])\n",
    "    width = int(highest_pitch - lowest_pitch + 1) \n",
    "    assert(fract(endtime) % fract(minimum_timeunit) == 0)\n",
    "    length = int(fract(endtime) / fract(minimum_timeunit))\n",
    "    print(width, length)\n",
    "    m = numpy.zeros(shape=(width,length))\n",
    "    for k, v in dict_cells.items():\n",
    "        assert(fract(k)%minimum_timeunit == 0)\n",
    "        base_l = int(fract(k)/minimum_timeunit)\n",
    "        for n in v:\n",
    "            w =int(n.pitches[0].ps - lowest_pitch)\n",
    "            assert(n.offset%minimum_timeunit == 0)\n",
    "            l_begin = base_l + int(n.offset/minimum_timeunit)\n",
    "            assert(n.duration.quarterLength%minimum_timeunit == 0)\n",
    "            l_end = l_begin+int(n.duration.quarterLength/minimum_timeunit)\n",
    "            m[w][l_begin:l_end] = 1\n",
    "    return m\n",
    "        \n",
    "        "
   ]
  },
  {
   "cell_type": "code",
   "execution_count": 272,
   "metadata": {},
   "outputs": [
    {
     "name": "stdout",
     "output_type": "stream",
     "text": [
      "1/12\n",
      "20 1836\n",
      "3048\n"
     ]
    }
   ],
   "source": [
    "xml_test = \"/Library/Frameworks/Python.framework/Versions/3.6/lib/python3.6/site-packages/music21/corpus/trecento/PMFC_06_Giovanni-02-Apress_un_fiume_a.xml\"\n",
    "c = converter.parse(xml_test)\n",
    "#m is the matrix result\n",
    "m = breakcell(c)"
   ]
  },
  {
   "cell_type": "code",
   "execution_count": 228,
   "metadata": {},
   "outputs": [
    {
     "data": {
      "text/plain": [
       "579"
      ]
     },
     "execution_count": 228,
     "metadata": {},
     "output_type": "execute_result"
    }
   ],
   "source": [
    "len(c.recurse())"
   ]
  },
  {
   "cell_type": "code",
   "execution_count": 282,
   "metadata": {},
   "outputs": [
    {
     "name": "stdout",
     "output_type": "stream",
     "text": [
      "1/12\n",
      "11 153\n",
      "    0    1    2    3    4    5    6    7    8    9    ...  143  144  145  146  \\\n",
      "0   0.0  0.0  0.0  0.0  0.0  0.0  0.0  0.0  0.0  0.0  ...  0.0  0.0  0.0  0.0   \n",
      "1   0.0  0.0  0.0  0.0  0.0  0.0  0.0  0.0  0.0  0.0  ...  0.0  0.0  0.0  0.0   \n",
      "2   0.0  0.0  0.0  0.0  0.0  0.0  0.0  0.0  0.0  0.0  ...  0.0  0.0  0.0  0.0   \n",
      "3   0.0  0.0  0.0  0.0  0.0  0.0  0.0  0.0  0.0  0.0  ...  1.0  0.0  0.0  0.0   \n",
      "4   0.0  0.0  0.0  0.0  0.0  0.0  0.0  0.0  0.0  0.0  ...  0.0  0.0  0.0  0.0   \n",
      "5   1.0  1.0  1.0  1.0  1.0  1.0  1.0  1.0  1.0  1.0  ...  0.0  1.0  1.0  1.0   \n",
      "6   0.0  0.0  0.0  0.0  0.0  0.0  0.0  0.0  0.0  0.0  ...  0.0  0.0  0.0  0.0   \n",
      "7   0.0  0.0  0.0  0.0  0.0  0.0  0.0  0.0  0.0  0.0  ...  0.0  0.0  0.0  0.0   \n",
      "8   0.0  0.0  0.0  0.0  0.0  0.0  0.0  0.0  0.0  0.0  ...  0.0  0.0  0.0  0.0   \n",
      "9   0.0  0.0  0.0  0.0  0.0  0.0  0.0  0.0  0.0  0.0  ...  0.0  0.0  0.0  0.0   \n",
      "10  0.0  0.0  0.0  0.0  0.0  0.0  0.0  0.0  0.0  0.0  ...  0.0  0.0  0.0  0.0   \n",
      "\n",
      "    147  148  149  150  151  152  \n",
      "0   0.0  0.0  0.0  0.0  0.0  0.0  \n",
      "1   0.0  0.0  0.0  0.0  0.0  0.0  \n",
      "2   0.0  0.0  0.0  0.0  0.0  0.0  \n",
      "3   0.0  0.0  0.0  0.0  0.0  0.0  \n",
      "4   0.0  0.0  0.0  0.0  0.0  0.0  \n",
      "5   1.0  1.0  1.0  1.0  1.0  1.0  \n",
      "6   0.0  0.0  0.0  0.0  0.0  0.0  \n",
      "7   0.0  0.0  0.0  0.0  0.0  0.0  \n",
      "8   0.0  0.0  0.0  0.0  0.0  0.0  \n",
      "9   0.0  0.0  0.0  0.0  0.0  0.0  \n",
      "10  0.0  0.0  0.0  0.0  0.0  0.0  \n",
      "\n",
      "[11 rows x 153 columns]\n"
     ]
    }
   ],
   "source": [
    "#unit test\n",
    "partial = c.recurse()[0:47]\n",
    "def compose_score(p):\n",
    "    currentp = stream.Part(id='part0')\n",
    "    currentm = None\n",
    "    for el in p:\n",
    "        if isinstance(el, stream.Measure):\n",
    "            if el is not None:\n",
    "                currentp.append(el)\n",
    "       \n",
    "    s = stream.Score(id='mainScore')\n",
    "    s.insert(0,currentp)\n",
    "    return s\n",
    "s = compose_score(partial)\n",
    "\n",
    "m1 = breakcell(s)\n",
    "df = pd.DataFrame(m1)\n",
    "print(df)"
   ]
  }
 ],
 "metadata": {
  "kernelspec": {
   "display_name": "Python 3",
   "language": "python",
   "name": "python3"
  },
  "language_info": {
   "codemirror_mode": {
    "name": "ipython",
    "version": 3
   },
   "file_extension": ".py",
   "mimetype": "text/x-python",
   "name": "python",
   "nbconvert_exporter": "python",
   "pygments_lexer": "ipython3",
   "version": "3.6.4"
  }
 },
 "nbformat": 4,
 "nbformat_minor": 2
}
